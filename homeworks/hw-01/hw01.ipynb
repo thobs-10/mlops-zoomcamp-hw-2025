{
 "cells": [
  {
   "cell_type": "code",
   "execution_count": 17,
   "id": "c5fb0402",
   "metadata": {},
   "outputs": [],
   "source": [
    "\n",
    "from sklearn.feature_extraction import DictVectorizer\n",
    "from sklearn.linear_model import LinearRegression\n",
    "from sklearn.linear_model import Lasso\n",
    "from sklearn.linear_model import Ridge\n",
    "\n",
    "from sklearn.metrics import root_mean_squared_error\n",
    "\n",
    "import pandas as pd\n",
    "import numpy as np\n",
    "import matplotlib.pyplot as plt\n",
    "import seaborn as sns"
   ]
  },
  {
   "cell_type": "code",
   "execution_count": 39,
   "id": "a3d64075",
   "metadata": {},
   "outputs": [
    {
     "data": {
      "text/plain": [
       "19"
      ]
     },
     "execution_count": 39,
     "metadata": {},
     "output_type": "execute_result"
    }
   ],
   "source": [
    "# Question 1\n",
    "jan_df = pd.read_parquet('/Users/thobelasixpence/Documents/mlops-zoomcamp-course-2025/mlops-zoomcamp-hw-2025/homeworks/hw-01/data/yellow_tripdata_2023-01.parquet')\n",
    "len(jan_df.columns)"
   ]
  },
  {
   "cell_type": "code",
   "execution_count": 40,
   "id": "2c58f41d",
   "metadata": {},
   "outputs": [
    {
     "data": {
      "text/plain": [
       "np.float64(42.59435124195458)"
      ]
     },
     "execution_count": 40,
     "metadata": {},
     "output_type": "execute_result"
    }
   ],
   "source": [
    "# Question 2\n",
    "jan_df['duration'] = jan_df.tpep_dropoff_datetime - jan_df.tpep_pickup_datetime\n",
    "jan_df.duration = jan_df.duration.apply(lambda td: td.total_seconds() / 60)\n",
    "jan_df['duration'].std()"
   ]
  },
  {
   "cell_type": "code",
   "execution_count": 41,
   "id": "f87592ba",
   "metadata": {},
   "outputs": [
    {
     "data": {
      "text/plain": [
       "(3066766, 20)"
      ]
     },
     "execution_count": 41,
     "metadata": {},
     "output_type": "execute_result"
    }
   ],
   "source": [
    "jan_df.shape"
   ]
  },
  {
   "cell_type": "code",
   "execution_count": 42,
   "id": "895e6375",
   "metadata": {},
   "outputs": [
    {
     "data": {
      "text/plain": [
       "(3009173, 20)"
      ]
     },
     "execution_count": 42,
     "metadata": {},
     "output_type": "execute_result"
    }
   ],
   "source": [
    "# Question 3\n",
    "jan_df = jan_df[(jan_df.duration >= 1) & (jan_df.duration <= 60)]\n",
    "jan_df.shape"
   ]
  },
  {
   "cell_type": "code",
   "execution_count": 43,
   "id": "937db6ed",
   "metadata": {},
   "outputs": [],
   "source": [
    "# Question 4\n",
    "cat_cols = ['PULocationID', 'DOLocationID']\n",
    "num_cols = ['trip_distance']\n",
    "jan_df[cat_cols] = jan_df[cat_cols].astype(str)\n",
    "train_dicts = jan_df[cat_cols + num_cols].to_dict(orient='records')\n",
    "dv = DictVectorizer()\n",
    "X_train = dv.fit_transform(train_dicts)"
   ]
  },
  {
   "cell_type": "code",
   "execution_count": 45,
   "id": "7b1adf97",
   "metadata": {},
   "outputs": [
    {
     "data": {
      "text/plain": [
       "(3009173, 516)"
      ]
     },
     "execution_count": 45,
     "metadata": {},
     "output_type": "execute_result"
    }
   ],
   "source": [
    "X_train.shape"
   ]
  },
  {
   "cell_type": "code",
   "execution_count": 48,
   "id": "33c0746b",
   "metadata": {},
   "outputs": [
    {
     "name": "stdout",
     "output_type": "stream",
     "text": [
      "RMSE: 7.66\n"
     ]
    }
   ],
   "source": [
    "# Question 5\n",
    "target = 'duration'\n",
    "y_train = jan_df[target].values\n",
    "model = LinearRegression()\n",
    "model.fit(X_train, y_train)\n",
    "y_pred = model.predict(X_train)\n",
    "rmse = root_mean_squared_error(y_train, y_pred)\n",
    "print(f'RMSE: {rmse:.2f}')"
   ]
  },
  {
   "cell_type": "code",
   "execution_count": 50,
   "id": "ac5a4e6e",
   "metadata": {},
   "outputs": [
    {
     "name": "stdout",
     "output_type": "stream",
     "text": [
      "RMSE: 7.82\n"
     ]
    }
   ],
   "source": [
    "# Question 6\n",
    "val_data = pd.read_parquet('/Users/thobelasixpence/Documents/mlops-zoomcamp-course-2025/mlops-zoomcamp-hw-2025/homeworks/hw-01/data/yellow_tripdata_2023-02.parquet')\n",
    "val_data['duration'] = val_data.tpep_dropoff_datetime - val_data.tpep_pickup_datetime\n",
    "val_data.duration = val_data.duration.apply(lambda td: td.total_seconds() / 60)\n",
    "val_data = val_data[(val_data.duration >= 1) & (val_data.duration <= 60)]\n",
    "val_data[cat_cols] = val_data[cat_cols].astype(str)\n",
    "test_dicts = val_data[cat_cols + num_cols].to_dict(orient='records')\n",
    "X_val = dv.transform(test_dicts)\n",
    "y_val = val_data[target].values\n",
    "y_pred = model.predict(X_val)\n",
    "rmse = root_mean_squared_error(y_val, y_pred)\n",
    "print(f'RMSE: {rmse:.2f}')"
   ]
  }
 ],
 "metadata": {
  "kernelspec": {
   "display_name": ".venv",
   "language": "python",
   "name": "python3"
  },
  "language_info": {
   "codemirror_mode": {
    "name": "ipython",
    "version": 3
   },
   "file_extension": ".py",
   "mimetype": "text/x-python",
   "name": "python",
   "nbconvert_exporter": "python",
   "pygments_lexer": "ipython3",
   "version": "3.13.1"
  }
 },
 "nbformat": 4,
 "nbformat_minor": 5
}
