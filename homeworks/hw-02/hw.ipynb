{
 "cells": [
  {
   "cell_type": "code",
   "execution_count": 1,
   "id": "3245a574",
   "metadata": {},
   "outputs": [],
   "source": [
    "import mlflow"
   ]
  },
  {
   "cell_type": "markdown",
   "id": "09c4c835",
   "metadata": {},
   "source": [
    "### Ques 1"
   ]
  },
  {
   "cell_type": "markdown",
   "id": "8c99624b",
   "metadata": {},
   "source": [
    "mlflow, version 2.20.0"
   ]
  },
  {
   "cell_type": "markdown",
   "id": "a1c27b78",
   "metadata": {},
   "source": [
    "### Ques 2"
   ]
  },
  {
   "cell_type": "markdown",
   "id": "2d4655a2",
   "metadata": {},
   "source": [
    "1 folder"
   ]
  },
  {
   "cell_type": "markdown",
   "id": "eaefec8d",
   "metadata": {},
   "source": [
    "### Ques 3"
   ]
  },
  {
   "cell_type": "markdown",
   "id": "8bd64516",
   "metadata": {},
   "source": [
    "min_samples_split = 2"
   ]
  },
  {
   "cell_type": "markdown",
   "id": "fd25df77",
   "metadata": {},
   "source": [
    "### Ques 4"
   ]
  },
  {
   "cell_type": "markdown",
   "id": "419f8230",
   "metadata": {},
   "source": [
    "default-artifact-root"
   ]
  },
  {
   "cell_type": "code",
   "execution_count": null,
   "id": "61d087ec",
   "metadata": {},
   "outputs": [],
   "source": []
  },
  {
   "cell_type": "markdown",
   "id": "348fd732",
   "metadata": {},
   "source": [
    "### Ques 5"
   ]
  },
  {
   "cell_type": "markdown",
   "id": "0282a0aa",
   "metadata": {},
   "source": [
    "rmse = 28.4"
   ]
  },
  {
   "cell_type": "markdown",
   "id": "6e83c051",
   "metadata": {},
   "source": [
    "### Ques 6"
   ]
  },
  {
   "cell_type": "markdown",
   "id": "6c5e1028",
   "metadata": {},
   "source": [
    "test_rmse = 30.99"
   ]
  },
  {
   "cell_type": "markdown",
   "id": "77275777",
   "metadata": {},
   "source": []
  }
 ],
 "metadata": {
  "kernelspec": {
   "display_name": ".venv",
   "language": "python",
   "name": "python3"
  },
  "language_info": {
   "codemirror_mode": {
    "name": "ipython",
    "version": 3
   },
   "file_extension": ".py",
   "mimetype": "text/x-python",
   "name": "python",
   "nbconvert_exporter": "python",
   "pygments_lexer": "ipython3",
   "version": "3.13.1"
  }
 },
 "nbformat": 4,
 "nbformat_minor": 5
}
